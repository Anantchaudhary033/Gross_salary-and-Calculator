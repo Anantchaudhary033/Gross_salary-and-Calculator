{
 "cells": [
  {
   "cell_type": "markdown",
   "id": "51f3369f",
   "metadata": {},
   "source": [
    "# Gross salary"
   ]
  },
  {
   "cell_type": "code",
   "execution_count": 7,
   "id": "f19335b8",
   "metadata": {},
   "outputs": [],
   "source": [
    "# calculate Gross salary , where hra=20%of basic,da=50%of basic,pf=11%of basic,allowance=1700 if basic>10000\n",
    "# 1500 if basic>5000 and 1300 if basic>2500"
   ]
  },
  {
   "cell_type": "code",
   "execution_count": 6,
   "id": "58691d51",
   "metadata": {},
   "outputs": [
    {
     "name": "stdout",
     "output_type": "stream",
     "text": [
      " enter basic 15000\n",
      "gross salary= 25550.0\n"
     ]
    }
   ],
   "source": [
    "Basic=float(input(\" enter basic \" ))\n",
    "hra=(Basic*20)/100\n",
    "da=(Basic*50)/100\n",
    "pf=(Basic*11)/100\n",
    "\n",
    "if (Basic>1000):\n",
    "    allowance=1700\n",
    "elif(Basic>5000):\n",
    "    allowance=1500\n",
    "elif(Basic>2500):\n",
    "    allowance=1300\n",
    "\n",
    "gross_salary=Basic+hra+da+allowance-pf\n",
    "print(\"gross salary=\",gross_salary)"
   ]
  },
  {
   "cell_type": "markdown",
   "id": "aadfe55b",
   "metadata": {},
   "source": [
    "# calculator"
   ]
  },
  {
   "cell_type": "code",
   "execution_count": 1,
   "id": "1c1ee341",
   "metadata": {},
   "outputs": [],
   "source": [
    "# Python programm to implement a calculator"
   ]
  },
  {
   "cell_type": "code",
   "execution_count": 5,
   "id": "708052f3",
   "metadata": {},
   "outputs": [
    {
     "name": "stdout",
     "output_type": "stream",
     "text": [
      "enter first number5.0\n",
      "enrter second number8.0\n",
      "Arithmatic operation(+,*,-,/):*\n",
      "40.0\n",
      "40.0\n",
      "the result of the operation is:  None\n"
     ]
    }
   ],
   "source": [
    "num1=float(input(\"enter first number\"))\n",
    "num2=float(input(\"enrter second number\"))\n",
    "def perform_operation (a,b,operation):\n",
    "    if operation == '+':\n",
    "        print(a+b)\n",
    "    elif operation == '-':\n",
    "        print(a-b)\n",
    "    elif operation == '*':\n",
    "        print(a*b)\n",
    "    elif operation == '/':\n",
    "        print(a/b)\n",
    "    else:\n",
    "        raise valueError(\"invalid operation.\")\n",
    "\n",
    "operation = input(\"Arithmatic operation(+,*,-,/):\")\n",
    "result = perform_operation(num1,num2,operation)\n",
    "perform_operation(num1,num2,operation)\n",
    "print(\"the result of the operation is: \" , result)"
   ]
  },
  {
   "cell_type": "code",
   "execution_count": null,
   "id": "876bca78",
   "metadata": {},
   "outputs": [],
   "source": []
  }
 ],
 "metadata": {
  "kernelspec": {
   "display_name": "Python 3 (ipykernel)",
   "language": "python",
   "name": "python3"
  },
  "language_info": {
   "codemirror_mode": {
    "name": "ipython",
    "version": 3
   },
   "file_extension": ".py",
   "mimetype": "text/x-python",
   "name": "python",
   "nbconvert_exporter": "python",
   "pygments_lexer": "ipython3",
   "version": "3.11.5"
  }
 },
 "nbformat": 4,
 "nbformat_minor": 5
}
